{
 "cells": [
  {
   "cell_type": "markdown",
   "metadata": {},
   "source": [
    "# Wprowadzenie do Python"
   ]
  },
  {
   "cell_type": "code",
   "execution_count": null,
   "metadata": {},
   "outputs": [],
   "source": [
    "\"\"\"\n",
    "typy podstawowe\n",
    "i\n",
    "deklaracja zmiennych\n",
    "\"\"\"\n",
    "# typy podstawowe i deklaracja zmiennych\n",
    "i = 3  # integer (int)\n",
    "f = 1.1  # float\n",
    "s = 'Hi'  # str (unicode)\n",
    "c = 1+2j  # complex\n",
    "bo = True  # bool\n",
    "o = None  # NoneType"
   ]
  },
  {
   "cell_type": "code",
   "execution_count": null,
   "metadata": {},
   "outputs": [],
   "source": [
    "# operatory arytmetyczne\n",
    "# + - * / %\n",
    "# exponentiation **"
   ]
  },
  {
   "cell_type": "code",
   "execution_count": null,
   "metadata": {},
   "outputs": [],
   "source": [
    "# operatory relacyjne\n",
    "# == != < <= > >="
   ]
  },
  {
   "cell_type": "code",
   "execution_count": null,
   "metadata": {},
   "outputs": [],
   "source": [
    "# operatory logiczne\n",
    "# and or not"
   ]
  },
  {
   "cell_type": "code",
   "execution_count": null,
   "metadata": {},
   "outputs": [],
   "source": [
    "# operatory bitowe\n",
    "# & | ^ ~ << >>"
   ]
  },
  {
   "cell_type": "code",
   "execution_count": null,
   "metadata": {},
   "outputs": [],
   "source": [
    "# operatory przypisania\n",
    "# = += -= *= /= %= <<= >>= &= ^= |="
   ]
  },
  {
   "cell_type": "code",
   "execution_count": null,
   "metadata": {},
   "outputs": [],
   "source": [
    "# instrukcja warunkowa\n",
    "if i != 0:\n",
    "    print('i != 0')"
   ]
  },
  {
   "cell_type": "code",
   "execution_count": null,
   "metadata": {},
   "outputs": [],
   "source": [
    "if i < 0:\n",
    "    print('i less than 0')\n",
    "elif i == 0:\n",
    "    print('i == 0')\n",
    "else:\n",
    "    print('i is positive')"
   ]
  },
  {
   "cell_type": "code",
   "execution_count": null,
   "metadata": {},
   "outputs": [],
   "source": [
    "j = 1 if i == 3 else 2\n",
    "print('j = ' + str(j))"
   ]
  },
  {
   "cell_type": "code",
   "execution_count": null,
   "metadata": {},
   "outputs": [],
   "source": [
    "# pętle\n",
    "i = 3\n",
    "while i > 0:\n",
    "    print('while i = ' + str(i))\n",
    "    i -= 1"
   ]
  },
  {
   "cell_type": "markdown",
   "metadata": {},
   "source": [
    "Zaimplementuj program drukujący kwadraty liczb od 1 do 10."
   ]
  },
  {
   "cell_type": "code",
   "execution_count": null,
   "metadata": {},
   "outputs": [],
   "source": [
    "i = 5\n",
    "while i > 0:\n",
    "    i -= 1\n",
    "    if i == 2:\n",
    "        continue\n",
    "    print('while continue i = ' + str(i))"
   ]
  },
  {
   "cell_type": "code",
   "execution_count": null,
   "metadata": {},
   "outputs": [],
   "source": [
    "i = 3\n",
    "while True:\n",
    "    i -= 1\n",
    "    print('while break i = ' + str(i))\n",
    "    if i == 0:\n",
    "        break"
   ]
  },
  {
   "cell_type": "markdown",
   "metadata": {},
   "source": [
    "Zaimplementuj program:\n",
    "* drukujący tabliczkę mnożenia w zakresie od 1 do 10,\n",
    "* drukujący tabliczkę mnożenia w zakresie od 1 do 10 dla liczb parzystych,\n",
    "* drukujący tabliczkę mnożenia w zakresie od 1 do 10 dla liczb parzystych poza 6."
   ]
  },
  {
   "cell_type": "code",
   "execution_count": null,
   "metadata": {
    "scrolled": true
   },
   "outputs": [],
   "source": [
    "# operacje na tekście\n",
    "t = \"tekst   \"\n",
    "print(t.capitalize())\n",
    "print(t.lower())\n",
    "print(t.upper())\n",
    "print(t.count(\"t\"))\n",
    "print(t.encode('utf-8'))\n",
    "print(t.startswith('t'))\n",
    "print(t.endswith('t'))\n",
    "print(t.find('k'))\n",
    "print(len(t), len(t.strip()))\n",
    "print(t.isalnum())\n",
    "print(t.isdigit())\n",
    "print(t.islower())\n",
    "print(t.isspace())\n",
    "print(t.isupper())\n",
    "print(t.join(['1','2','3']))\n",
    "', '.join(['1','2','3'])"
   ]
  },
  {
   "cell_type": "code",
   "execution_count": null,
   "metadata": {},
   "outputs": [],
   "source": [
    "# sekwencje\n",
    "h = \"World\"\n",
    "w = \"Hello\"\n",
    "h, w = w, h # zamiana zmiennych\n",
    "hello = h + \" \" + w + \"!\"\n",
    "\n",
    "print(hello[0])\n",
    "print(hello[0:])\n",
    "print(hello[0:2])\n",
    "print(hello[0::2])\n",
    "print(hello[:2])\n",
    "print(hello[-3:])"
   ]
  },
  {
   "cell_type": "code",
   "execution_count": null,
   "metadata": {},
   "outputs": [],
   "source": [
    "for i in hello:\n",
    "    print(i)"
   ]
  },
  {
   "cell_type": "code",
   "execution_count": null,
   "metadata": {},
   "outputs": [],
   "source": [
    "for i in range(3):\n",
    "    print(i)\n",
    "    j += i\n",
    "print(j)"
   ]
  },
  {
   "cell_type": "markdown",
   "metadata": {},
   "source": [
    "Wydrukuj liczby nieparzyste w zakresie od 0 do 100 podzielne przez 3 ale nie przez 15."
   ]
  },
  {
   "cell_type": "code",
   "execution_count": null,
   "metadata": {},
   "outputs": [],
   "source": [
    "# krotka\n",
    "t = (1, 3, 'text', [6, 5], 1.2)\n",
    "for i in t:\n",
    "    print(\"tuple \" + str(i))"
   ]
  },
  {
   "cell_type": "code",
   "execution_count": null,
   "metadata": {},
   "outputs": [],
   "source": [
    "# lista\n",
    "l = [1, 3, 'text', [6, 5], 1.2]\n",
    "l.remove(1)\n",
    "l.append(5)\n",
    "for i in l:\n",
    "    print(\"list \" + str(i))"
   ]
  },
  {
   "cell_type": "code",
   "execution_count": null,
   "metadata": {},
   "outputs": [],
   "source": [
    "# zbiór\n",
    "s = {1, 3, 'text', 1.2}\n",
    "s.remove(1)\n",
    "s.add(5)\n",
    "s.add(5)\n",
    "for i in s:\n",
    "    print(\"set \" + str(i))"
   ]
  },
  {
   "cell_type": "code",
   "execution_count": null,
   "metadata": {},
   "outputs": [],
   "source": [
    "# słownik\n",
    "person = {'name': 'John', 'surname': 'Smith'}\n",
    "print(person)\n",
    "person['age'] = 30\n",
    "print(person)\n",
    "if 'age' in person:\n",
    "    print('{} age: {}'.format(person['name'], person['age']))"
   ]
  },
  {
   "cell_type": "code",
   "execution_count": null,
   "metadata": {},
   "outputs": [],
   "source": [
    "def sub(a, b=1):\n",
    "    # function sample\n",
    "    print(\"sub\")\n",
    "    return a - b\n",
    "\n",
    "\n",
    "# function call\n",
    "print(sub(2, 1))\n",
    "print(sub(b=10, a=20))\n",
    "print(sub(1))"
   ]
  }
 ],
 "metadata": {
  "kernelspec": {
   "display_name": "Python 3",
   "language": "python",
   "name": "python3"
  },
  "language_info": {
   "codemirror_mode": {
    "name": "ipython",
    "version": 3
   },
   "file_extension": ".py",
   "mimetype": "text/x-python",
   "name": "python",
   "nbconvert_exporter": "python",
   "pygments_lexer": "ipython3",
   "version": "3.7.1"
  }
 },
 "nbformat": 4,
 "nbformat_minor": 2
}
