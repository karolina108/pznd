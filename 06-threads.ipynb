{
 "cells": [
  {
   "cell_type": "code",
   "execution_count": null,
   "metadata": {},
   "outputs": [],
   "source": [
    "import _thread\n",
    "import time\n",
    "\n",
    "def thread_func(threadName, delay):\n",
    "   count = 0\n",
    "   while count < 5:\n",
    "      time.sleep(delay)\n",
    "      count += 1\n",
    "      print(threadName + \"  \" + time.ctime(time.time()))\n",
    "    \n",
    "thread_func(\"1\", 1)\n",
    "thread_func(\"2\", 2)\n",
    "print(\"W\" + \"  \" + time.ctime(time.time()))"
   ]
  },
  {
   "cell_type": "code",
   "execution_count": null,
   "metadata": {},
   "outputs": [],
   "source": [
    "t1=_thread.start_new_thread(thread_func, (\"1\", 1))\n",
    "t2=_thread.start_new_thread(thread_func, (\"2\", 2))\n",
    "print(\"W\" + \"  \" + time.ctime(time.time()))"
   ]
  },
  {
   "cell_type": "markdown",
   "metadata": {},
   "source": [
    "## Zadanie\n",
    "\n",
    "1. Utwórz kolekcję liczb losowych\n",
    "1. Znajdź minimalną wartość w kolekcji używając pętli"
   ]
  },
  {
   "cell_type": "code",
   "execution_count": null,
   "metadata": {},
   "outputs": [],
   "source": [
    "import random\n",
    "mylist = [random.randint(0, 100000000) for k in range(100000)]"
   ]
  },
  {
   "cell_type": "code",
   "execution_count": null,
   "metadata": {},
   "outputs": [],
   "source": []
  },
  {
   "cell_type": "markdown",
   "metadata": {},
   "source": [
    "1. Znajdź minimalną wartość w kolekcji używając metody dziel i zwyciężaj"
   ]
  },
  {
   "cell_type": "code",
   "execution_count": null,
   "metadata": {},
   "outputs": [],
   "source": [
    "def find_min(l, lo, hi):\n",
    "    min = 100000000\n",
    "    return min\n",
    "print(find_min(mylist, 0, 100000))"
   ]
  },
  {
   "cell_type": "markdown",
   "metadata": {},
   "source": [
    "1. Zrównoleglij wykonanie zaimplementowanej metody"
   ]
  },
  {
   "cell_type": "code",
   "execution_count": null,
   "metadata": {},
   "outputs": [],
   "source": [
    "def find_min(l, lo, hi):\n",
    "    min = 100000000\n",
    "    return min\n",
    "print(find_min(mylist, 0, 100000))"
   ]
  }
 ],
 "metadata": {
  "kernelspec": {
   "display_name": "Python 3",
   "language": "python",
   "name": "python3"
  },
  "language_info": {
   "codemirror_mode": {
    "name": "ipython",
    "version": 3
   },
   "file_extension": ".py",
   "mimetype": "text/x-python",
   "name": "python",
   "nbconvert_exporter": "python",
   "pygments_lexer": "ipython3",
   "version": "3.7.1"
  }
 },
 "nbformat": 4,
 "nbformat_minor": 2
}
